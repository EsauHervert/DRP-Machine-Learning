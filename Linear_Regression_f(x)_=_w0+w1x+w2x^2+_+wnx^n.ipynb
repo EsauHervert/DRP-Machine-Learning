{
  "nbformat": 4,
  "nbformat_minor": 0,
  "metadata": {
    "colab": {
      "name": "Linear Regression f(x) = w0+w1x+w2x^2+...+wnx^n",
      "provenance": [],
      "collapsed_sections": [],
      "include_colab_link": true
    },
    "kernelspec": {
      "name": "python3",
      "display_name": "Python 3"
    }
  },
  "cells": [
    {
      "cell_type": "markdown",
      "metadata": {
        "id": "view-in-github",
        "colab_type": "text"
      },
      "source": [
        "<a href=\"https://colab.research.google.com/github/EsauHervert/DRP-Machine-Learning/blob/master/Linear_Regression_f(x)_%3D_w0%2Bw1x%2Bw2x%5E2%2B_%2Bwnx%5En.ipynb\" target=\"_parent\"><img src=\"https://colab.research.google.com/assets/colab-badge.svg\" alt=\"Open In Colab\"/></a>"
      ]
    },
    {
      "cell_type": "markdown",
      "metadata": {
        "id": "QGO8gj7SApS6",
        "colab_type": "text"
      },
      "source": [
        "Notice that to transform the equation $f(x) = w_0+w_1x$ to a system, we used the following:\n",
        "\n",
        "$$\\tilde{x} = \\begin{bmatrix}\n",
        "1\\\\\n",
        "x\n",
        "\\end{bmatrix}$$\n",
        "\n",
        "$$w = \\begin{bmatrix}\n",
        "w_0\\\\\n",
        "w_1\n",
        "\\end{bmatrix}$$\n",
        "\n",
        "To get the following:\n",
        "\n",
        "$$f(\\tilde{x}) = w^T\\tilde{x}$$\n",
        "\n",
        "Now let us do the same for the case $f(x) = w_0 + w_1x + w_2x^2 + \\cdots + w_k x^k$. We will do the following:\n",
        "\n",
        "$$\\tilde{x} = \\begin{bmatrix}\n",
        "1\\\\\n",
        "x\\\\\n",
        "x^2\\\\\n",
        "\\vdots\\\\\n",
        "x^k\n",
        "\\end{bmatrix}$$\n",
        "\n",
        "$$w = \\begin{bmatrix}\n",
        "w_0\\\\\n",
        "w_1\\\\\n",
        "w_2\\\\\n",
        "\\vdots\\\\\n",
        "w_k\n",
        "\\end{bmatrix}$$\n",
        "\n",
        "To get the following:\n",
        "\n",
        "$$f(\\tilde{x}) = w^T\\tilde{x}$$\n",
        "\n",
        "Given the training data ${X,Y}$ representing a polynomial $f(x) = w_0 + w_1x + w_2x^2 + \\cdots + w_k x^k$we use the following loss function:\n",
        "\n",
        "$$\\mathcal{L}(X,Y,w) = \\frac{1}{2n}\\sum_{i=1}^n(w^T\\tilde{x}_i - y_i)^2$$\n",
        "\n",
        "From here we get that:\n",
        "\n",
        "$$\\nabla_w\\mathcal{L}(X,Y,w) = \\frac{1}{n}\\sum_{i=1}^n(w^T\\tilde{x}_i - y_i)*\\tilde{x}_i := \\delta(w)$$\n",
        "\n",
        "Thus the update rule becomes:\n",
        "\n",
        "$$w_{j+1} = w_j - \\eta\\delta(w_j)$$\n"
      ]
    },
    {
      "cell_type": "markdown",
      "metadata": {
        "id": "fcBbJE1yGeIo",
        "colab_type": "text"
      },
      "source": [
        "Now let us look at the function\n",
        "\n",
        "$$f(x) = 3 - x +3x^2 + 4x^3$$\n",
        "\n",
        "in the interval $[-1,1]$."
      ]
    },
    {
      "cell_type": "code",
      "metadata": {
        "id": "nFvoi0v2HJcm",
        "colab_type": "code",
        "colab": {}
      },
      "source": [
        "import torch\n",
        "import numpy as np\n",
        "import matplotlib.pyplot as plt"
      ],
      "execution_count": 0,
      "outputs": []
    },
    {
      "cell_type": "markdown",
      "metadata": {
        "id": "LVegUzKFIgHX",
        "colab_type": "text"
      },
      "source": [
        "Let us create out $X$ and our $f(X)$."
      ]
    },
    {
      "cell_type": "code",
      "metadata": {
        "id": "BJKlEpH98OGx",
        "colab_type": "code",
        "outputId": "ca93c10f-dcbf-453f-fcee-febaa6a16034",
        "colab": {
          "base_uri": "https://localhost:8080/",
          "height": 34
        }
      },
      "source": [
        "X = torch.arange(-1,1,0.01)\n",
        "n = X.numpy().size\n",
        "X = torch.reshape(X, (1, n))\n",
        "Y = 3 - X + 3*X*X + 4*X*X*X\n",
        "print(Y.size())"
      ],
      "execution_count": 0,
      "outputs": [
        {
          "output_type": "stream",
          "text": [
            "torch.Size([1, 200])\n"
          ],
          "name": "stdout"
        }
      ]
    },
    {
      "cell_type": "markdown",
      "metadata": {
        "id": "jlbt71lkIqEH",
        "colab_type": "text"
      },
      "source": [
        "Now let us create our $\\tilde{X}$."
      ]
    },
    {
      "cell_type": "code",
      "metadata": {
        "id": "UbhszYo3G-hy",
        "colab_type": "code",
        "outputId": "82b666a0-b05b-4aff-f8e5-b7c618feae4c",
        "colab": {
          "base_uri": "https://localhost:8080/",
          "height": 34
        }
      },
      "source": [
        "X0 = torch.ones(1,n)\n",
        "X1 = X\n",
        "X2 = X*X\n",
        "X3 = X*X*X\n",
        "Xt = torch.cat((X0, X1, X2, X3), 0)\n",
        "print(Xt.size())"
      ],
      "execution_count": 0,
      "outputs": [
        {
          "output_type": "stream",
          "text": [
            "torch.Size([4, 200])\n"
          ],
          "name": "stdout"
        }
      ]
    },
    {
      "cell_type": "markdown",
      "metadata": {
        "id": "QPrcqo8OIvUm",
        "colab_type": "text"
      },
      "source": [
        "We can use the exact gradient descent algorithm that we used in the previous case."
      ]
    },
    {
      "cell_type": "code",
      "metadata": {
        "id": "R1C0OQEtHbH7",
        "colab_type": "code",
        "colab": {}
      },
      "source": [
        "def GradDescent(X, Y, w, eta, N):\n",
        "  n,m = X.size()\n",
        "  for j in range(N):\n",
        "    wT = torch.transpose(w, 0, 1)\n",
        "    E = torch.mm(wT, X) - Y\n",
        "    delta = (E*X).mean(1)\n",
        "    delta = torch.reshape(delta, (n, 1))\n",
        "    w -= eta*delta\n",
        "  return w"
      ],
      "execution_count": 0,
      "outputs": []
    },
    {
      "cell_type": "code",
      "metadata": {
        "id": "NZrv85b5lQFQ",
        "colab_type": "code",
        "colab": {}
      },
      "source": [
        "def sGradDescent(X, Y, w, eta, N, s):\n",
        "  n,m = X.size()\n",
        "  for j in range(N):\n",
        "    perm = torch.randperm(n)\n",
        "    perm = perm[0:s]\n",
        "    wT = torch.transpose(w, 0, 1)\n",
        "    Xpi = X[perm]\n",
        "    Ypi = Y[perm]\n",
        "    Epi = torch.mm(wT, Xpi) - Ypi\n",
        "    delta = (Epi*)"
      ],
      "execution_count": 0,
      "outputs": []
    },
    {
      "cell_type": "markdown",
      "metadata": {
        "id": "6xBTlJqeKI_E",
        "colab_type": "text"
      },
      "source": [
        "Now let us initalize a random weight vector."
      ]
    },
    {
      "cell_type": "code",
      "metadata": {
        "id": "TZ1myiveHvc-",
        "colab_type": "code",
        "outputId": "1b7b330e-88d6-4542-fdfe-5f785663360a",
        "colab": {
          "base_uri": "https://localhost:8080/",
          "height": 85
        }
      },
      "source": [
        "w = torch.rand(4,1)\n",
        "w_new = w.clone()\n",
        "print(w)"
      ],
      "execution_count": 0,
      "outputs": [
        {
          "output_type": "stream",
          "text": [
            "tensor([[0.9965],\n",
            "        [0.4804],\n",
            "        [0.0389],\n",
            "        [0.8712]])\n"
          ],
          "name": "stdout"
        }
      ]
    },
    {
      "cell_type": "markdown",
      "metadata": {
        "id": "Ht69Zjb1KWNL",
        "colab_type": "text"
      },
      "source": [
        "Now us define a function that will give us an output depending on $w$ and plot this function and the training data."
      ]
    },
    {
      "cell_type": "code",
      "metadata": {
        "id": "Wov-3zy0Hyj0",
        "colab_type": "code",
        "outputId": "5cbc664f-da01-4c2f-90e9-ce834270eed7",
        "colab": {
          "base_uri": "https://localhost:8080/",
          "height": 282
        }
      },
      "source": [
        "def f(w,x):\n",
        "  wT = torch.transpose(w, 0, 1)\n",
        "  return torch.mm(wT, x)\n",
        "\n",
        "fig, (ax1) = plt.subplots(1, 1)\n",
        "ax1.plot(X, f(w, Xt), marker = '_', color = 'blue')\n",
        "ax1.scatter(X, Y, marker='x', color='red')"
      ],
      "execution_count": 0,
      "outputs": [
        {
          "output_type": "execute_result",
          "data": {
            "text/plain": [
              "<matplotlib.collections.PathCollection at 0x7f9d093c4fd0>"
            ]
          },
          "metadata": {
            "tags": []
          },
          "execution_count": 15
        },
        {
          "output_type": "display_data",
          "data": {
            "image/png": "[encoded data removed]",
            "text/plain": [
              "<Figure size 432x288 with 1 Axes>"
            ]
          },
          "metadata": {
            "tags": []
          }
        }
      ]
    },
    {
      "cell_type": "markdown",
      "metadata": {
        "id": "WS4ifp4NH-6v",
        "colab_type": "text"
      },
      "source": [
        "Now let us run our gradient descent to see what kind of value we get."
      ]
    },
    {
      "cell_type": "code",
      "metadata": {
        "id": "VEJOhYtgH9U7",
        "colab_type": "code",
        "outputId": "667c894b-9a28-48e7-86ce-183cc4fe8291",
        "colab": {
          "base_uri": "https://localhost:8080/",
          "height": 85
        }
      },
      "source": [
        "w_new = GradDescent(Xt, Y, w_new, .01, 1000)\n",
        "print(w_new)"
      ],
      "execution_count": 0,
      "outputs": [
        {
          "output_type": "stream",
          "text": [
            "tensor([[ 3.0064],\n",
            "        [-0.4192],\n",
            "        [ 2.9766],\n",
            "        [ 3.0797]])\n"
          ],
          "name": "stdout"
        }
      ]
    },
    {
      "cell_type": "code",
      "metadata": {
        "id": "eGyx-clYIBWy",
        "colab_type": "code",
        "outputId": "a768a0ce-021c-45ac-ae74-87fe5daa087b",
        "colab": {
          "base_uri": "https://localhost:8080/",
          "height": 282
        }
      },
      "source": [
        "fig, (ax1) = plt.subplots(1, 1)\n",
        "ax1.plot(X, f(w_new, Xt), marker = '_', color = 'blue')\n",
        "ax1.scatter(X, Y, marker='x', color='red')"
      ],
      "execution_count": 0,
      "outputs": [
        {
          "output_type": "execute_result",
          "data": {
            "text/plain": [
              "<matplotlib.collections.PathCollection at 0x7f9d09176470>"
            ]
          },
          "metadata": {
            "tags": []
          },
          "execution_count": 17
        },
        {
          "output_type": "display_data",
          "data": {
            "image/png": "[encoded data removed]",
            "text/plain": [
              "<Figure size 432x288 with 1 Axes>"
            ]
          },
          "metadata": {
            "tags": []
          }
        }
      ]
    },
    {
      "cell_type": "code",
      "metadata": {
        "id": "ZmiCQor1IDTa",
        "colab_type": "code",
        "outputId": "4bd564e7-2f8c-4505-9f14-fde4aaeccfae",
        "colab": {
          "base_uri": "https://localhost:8080/",
          "height": 350
        }
      },
      "source": [
        "w_new = GradDescent(Xt, Y, w_new, .01, 5000)\n",
        "print(w_new)\n",
        "\n",
        "fig, (ax1) = plt.subplots(1, 1)\n",
        "ax1.plot(X, f(w_new, Xt), marker = '_', color = 'blue')\n",
        "ax1.scatter(X, Y, marker='x', color='red')"
      ],
      "execution_count": 0,
      "outputs": [
        {
          "output_type": "stream",
          "text": [
            "tensor([[ 3.0017],\n",
            "        [-0.7463],\n",
            "        [ 2.9929],\n",
            "        [ 3.5981]])\n"
          ],
          "name": "stdout"
        },
        {
          "output_type": "execute_result",
          "data": {
            "text/plain": [
              "<matplotlib.collections.PathCollection at 0x7f9d08e96860>"
            ]
          },
          "metadata": {
            "tags": []
          },
          "execution_count": 18
        },
        {
          "output_type": "display_data",
          "data": {
            "image/png": "[encoded data removed]",
            "text/plain": [
              "<Figure size 432x288 with 1 Axes>"
            ]
          },
          "metadata": {
            "tags": []
          }
        }
      ]
    }
  ]
}