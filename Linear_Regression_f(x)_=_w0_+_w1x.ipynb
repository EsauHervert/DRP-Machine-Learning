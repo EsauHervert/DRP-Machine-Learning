{
  "nbformat": 4,
  "nbformat_minor": 0,
  "metadata": {
    "colab": {
      "name": "Linear Regression f(x) = w0 + w1x",
      "provenance": [],
      "collapsed_sections": [],
      "include_colab_link": true
    },
    "kernelspec": {
      "name": "python3",
      "display_name": "Python 3"
    }
  },
  "cells": [
    {
      "cell_type": "markdown",
      "metadata": {
        "id": "view-in-github",
        "colab_type": "text"
      },
      "source": [
        "<a href=\"https://colab.research.google.com/github/EsauHervert/DRP-Machine-Learning/blob/master/Linear_Regression_f(x)_%3D_w0_%2B_w1x.ipynb\" target=\"_parent\"><img src=\"https://colab.research.google.com/assets/colab-badge.svg\" alt=\"Open In Colab\"/></a>"
      ]
    },
    {
      "cell_type": "markdown",
      "metadata": {
        "id": "QxfbKpg6NfnY",
        "colab_type": "text"
      },
      "source": [
        "We have done the case where $f(x) = wx$, now let us look at the case where $f(x) = w^0 + w^1x$. Define the vector $w = (w^0, w^1)$, we can define the following:\n",
        "\n",
        "Given an arbitrary $w = (w^0,w^1)$, the loss is defined as:\n",
        "\n",
        "$$\\mathcal{L}(X,Y,w) = \\frac{1}{2n}\\sum_{i=1}^n\\left(w^0 + w^1x_i - y_i)\\right)^2$$\n",
        "\n",
        "Its gradient is the following:\n",
        "\n",
        "$$\\nabla_w\\mathcal{L}(X,Y,w) = \\left(\\frac{\\partial}{\\partial w_0}\\mathcal{L}(X,Y,w), \\frac{\\partial}{\\partial w_1}\\mathcal{L}(X,Y,w)\\right)$$\n",
        "\n",
        "where\n",
        "\n",
        "\\begin{align*}\n",
        "  \\frac{\\partial}{\\partial w_0}\\mathcal{L}(X,Y,w) &= \\frac{\\partial}{\\partial w_0}\\frac{1}{2n}\\sum_{i=1}^n\\left(w^0 + w^1x_i - y_i)\\right)^2 \\\\\n",
        "  &= \\frac{1}{n}\\sum_{i=1}^n(w^0 + w^1x_i - y_i)\\frac{\\partial}{\\partial w_0}(w^0 + w^1x_i - y_i)\\\\\n",
        "  &= \\frac{1}{n}\\sum_{i=1}^n(w^0 + w^1x_i - y_i)\n",
        "\\end{align*}\n",
        "\n",
        "\\begin{align*}\n",
        "  \\frac{\\partial}{\\partial w_1}\\mathcal{L}(X,Y,w) &= \\frac{\\partial}{\\partial w_1}\\frac{1}{2n}\\sum_{i=1}^n\\left(w^0 + w^1x_i - y_i)\\right)^2 \\\\\n",
        "  &= \\frac{1}{n}\\sum_{i=1}^n(w^0 + w^1x_i - y_i)\\frac{\\partial}{\\partial w_1}(w^0 + w^1x_i - y_i)\\\\\n",
        "  &= \\frac{1}{n}\\sum_{i=1}^n(w^0 + w^1x_i - y_i)*x_i\n",
        "\\end{align*}\n",
        "\n",
        "$$\\therefore \n",
        "So now our gradient update rule:\n",
        "\n",
        "$$w_{j+1} = w_{j} - \\eta \\nabla_w\\mathcal{L}(X,Y,w_j)$$\n",
        "\n",
        "defining the following:\n",
        "\n",
        "$$\\tilde{x}_i = \\begin{bmatrix}\n",
        "1\\\\\n",
        "x_i\n",
        "\\end{bmatrix}$$\n",
        "\n",
        "We can define the following:\n",
        "\n",
        "$$w^t\\tilde{x}_i = w_0+w_1x_i$$\n",
        "\n",
        "$$\\nabla_w\\mathcal{L}(X,Y,w) = \\frac{1}{n}\\sum_{i=1}^n(w^T\\tilde{x}_i - y_i)*\\tilde{x}_i := \\delta(w)$$\n",
        "\n",
        "Thus the update rule becomes:\n",
        "\n",
        "$$w_{j+1} = w_j - \\eta\\delta(w_j)$$\n",
        "\n"
      ]
    },
    {
      "cell_type": "code",
      "metadata": {
        "id": "MLB2Zg0SNMnA",
        "colab_type": "code",
        "colab": {}
      },
      "source": [
        "import torch\n",
        "import numpy as np\n",
        "import matplotlib.pyplot as plt\n",
        "import time"
      ],
      "execution_count": 0,
      "outputs": []
    },
    {
      "cell_type": "markdown",
      "metadata": {
        "id": "oKecZWa_R6t5",
        "colab_type": "text"
      },
      "source": [
        "Our target function will be the function $f(x) = 2 - 3x$ on the interval $[-1,1]$. We will first do everything in terms of vanilla gradient descent."
      ]
    },
    {
      "cell_type": "code",
      "metadata": {
        "id": "p0c3UzZiR4zN",
        "colab_type": "code",
        "outputId": "0246dbe7-217e-4f8c-8d35-3435fdcbaa11",
        "colab": {
          "base_uri": "https://localhost:8080/",
          "height": 35
        }
      },
      "source": [
        "X = torch.arange(-1,1,0.01)\n",
        "n = X.numpy().size\n",
        "X = torch.reshape(X, (1, n))\n",
        "Y = 2 - 3*X\n",
        "print(Y.size())"
      ],
      "execution_count": 0,
      "outputs": [
        {
          "output_type": "stream",
          "text": [
            "torch.Size([1, 200])\n"
          ],
          "name": "stdout"
        }
      ]
    },
    {
      "cell_type": "markdown",
      "metadata": {
        "id": "8glrR-POSa1v",
        "colab_type": "text"
      },
      "source": [
        "Now since we are given a vector $X = [x_1 x_2 \\cdots x_n]$ and we need to instead have a matrix $\\tilde{X} = [\\tilde{x}_1 \\tilde{x}_2\\cdots\\tilde{x}_n]$, we do the following:"
      ]
    },
    {
      "cell_type": "code",
      "metadata": {
        "id": "kuLbEw4WTdKB",
        "colab_type": "code",
        "outputId": "8e74d041-b57a-462a-8a85-8d5f24b1230e",
        "colab": {
          "base_uri": "https://localhost:8080/",
          "height": 35
        }
      },
      "source": [
        "Ones = torch.ones(1,n)\n",
        "Xt = torch.cat((Ones, X), 0)\n",
        "print(Xt.size())"
      ],
      "execution_count": 0,
      "outputs": [
        {
          "output_type": "stream",
          "text": [
            "torch.Size([2, 200])\n"
          ],
          "name": "stdout"
        }
      ]
    },
    {
      "cell_type": "markdown",
      "metadata": {
        "id": "iigBLkzTU3VI",
        "colab_type": "text"
      },
      "source": [
        "To simplify our calculations, we will define the following:\n",
        "\n",
        "$$e_i = w^T\\tilde{x}_i - y_i$$\n",
        "\n",
        "$$E = w^T\\tilde{X} - Y$$\n",
        "\n",
        "$$\\therefore \\delta(w) =  \\frac{1}{n}\\sum_{i=1}^ne_i*\\tilde{x}_i  = (E\\circ\\tilde{X}).mean(1)$$"
      ]
    },
    {
      "cell_type": "code",
      "metadata": {
        "id": "TLant7AFTngg",
        "colab_type": "code",
        "colab": {}
      },
      "source": [
        "def GradDescent(X, Y, w, eta, N, t):\n",
        "  t_0 = time.time()\n",
        "  n,m = X.size()\n",
        "  for j in range(N):\n",
        "    wT = torch.transpose(w, 0, 1)\n",
        "    E = torch.mm(wT, X) - Y\n",
        "    if E.norm(p=2) <= t:\n",
        "      break\n",
        "    delta = (E*X).mean(1)\n",
        "    delta = torch.reshape(delta, (n, 1))\n",
        "    w -= eta*delta\n",
        "  t_1 = time.time()\n",
        "  print(\"total time = \",t_1 - t_0)\n",
        "  return w"
      ],
      "execution_count": 0,
      "outputs": []
    },
    {
      "cell_type": "code",
      "metadata": {
        "id": "dRRMPbV-j0uR",
        "colab_type": "code",
        "colab": {}
      },
      "source": [
        "def sGradDescent(X, Y, w, eta, N, s, t):\n",
        "  t_0 = time.time()\n",
        "  n,m = X.size()\n",
        "  for j in range(N):\n",
        "    perm = torch.randperm(m)\n",
        "    perm = perm[0:s]\n",
        "    Xpi = X[:,perm]\n",
        "    #print(Xpi.size())\n",
        "    Ypi = Y[0,perm]\n",
        "    #print(Ypi.size())\n",
        "    wT = torch.transpose(w, 0, 1)\n",
        "    #print(wT)\n",
        "    Epi = torch.mm(wT, Xpi) - Ypi\n",
        "    if Epi.norm(p=2) <= t:\n",
        "      break\n",
        "    delta = (Epi*Xpi).mean(1)\n",
        "    delta = torch.reshape(delta, (n,1))\n",
        "    w -= eta*delta\n",
        "  t_1 = time.time()\n",
        "  print(\"total time = \",t_1-t_0)\n",
        "  return w"
      ],
      "execution_count": 0,
      "outputs": []
    },
    {
      "cell_type": "markdown",
      "metadata": {
        "id": "FA_jVoOMXeLx",
        "colab_type": "text"
      },
      "source": [
        "Now let us initialize a $w$ and see how it performs:"
      ]
    },
    {
      "cell_type": "code",
      "metadata": {
        "id": "DQ31XEAEUtGI",
        "colab_type": "code",
        "outputId": "5fab7b87-af73-4585-8fd6-3557b484158a",
        "colab": {
          "base_uri": "https://localhost:8080/",
          "height": 72
        }
      },
      "source": [
        "w = torch.rand(2,1)\n",
        "w_new = w.clone()\n",
        "w_new_s = w.clone()\n",
        "print(w)\n",
        "print(Y.size())"
      ],
      "execution_count": 0,
      "outputs": [
        {
          "output_type": "stream",
          "text": [
            "tensor([[0.4340],\n",
            "        [0.6091]])\n",
            "torch.Size([1, 200])\n"
          ],
          "name": "stdout"
        }
      ]
    },
    {
      "cell_type": "markdown",
      "metadata": {
        "id": "PYNxMyFwjUcc",
        "colab_type": "text"
      },
      "source": [
        "We will define a function that will take in the inputs and a predeterminded weights and get an output based on the weights."
      ]
    },
    {
      "cell_type": "code",
      "metadata": {
        "id": "_HhsTV9aXjg9",
        "colab_type": "code",
        "colab": {}
      },
      "source": [
        "def f(w,x):\n",
        "  wT = torch.transpose(w, 0, 1)\n",
        "  return torch.mm(wT, x)\n",
        "def loss(w,x,y):\n",
        "  return f(w,x) - y"
      ],
      "execution_count": 0,
      "outputs": []
    },
    {
      "cell_type": "code",
      "metadata": {
        "id": "8Ac75PyeXxe-",
        "colab_type": "code",
        "outputId": "b59b5f33-5095-4a66-e14d-392260d7ca69",
        "colab": {
          "base_uri": "https://localhost:8080/",
          "height": 283
        }
      },
      "source": [
        "fig, (ax1) = plt.subplots(1, 1)\n",
        "ax1.plot(X, f(w, Xt), marker = '_', color = 'blue')\n",
        "ax1.scatter(X, Y, marker='x', color='red')"
      ],
      "execution_count": 0,
      "outputs": [
        {
          "output_type": "execute_result",
          "data": {
            "text/plain": [
              "<matplotlib.collections.PathCollection at 0x7f64f508a7f0>"
            ]
          },
          "metadata": {
            "tags": []
          },
          "execution_count": 30
        },
        {
          "output_type": "display_data",
          "data": {
            "image/png": "[encoded data removed]",
            "text/plain": [
              "<Figure size 432x288 with 1 Axes>"
            ]
          },
          "metadata": {
            "tags": []
          }
        }
      ]
    },
    {
      "cell_type": "markdown",
      "metadata": {
        "id": "LVnZ2isXhFtY",
        "colab_type": "text"
      },
      "source": [
        "Now let us run our gradient descent to see what kind of value we get.\n"
      ]
    },
    {
      "cell_type": "code",
      "metadata": {
        "id": "NIVooBpXX30I",
        "colab_type": "code",
        "outputId": "8f6095ed-65d5-455d-f3e5-48fdcad7aa97",
        "colab": {
          "base_uri": "https://localhost:8080/",
          "height": 127
        }
      },
      "source": [
        "w_new = GradDescent(Xt, Y, w_new, 0.01, 1000, 0.01)\n",
        "w_new_s = sGradDescent(Xt, Y, w_new_s, 0.01, 1000, 50, 0.01)\n",
        "print(w_new)\n",
        "print(w_new_s)"
      ],
      "execution_count": 0,
      "outputs": [
        {
          "output_type": "stream",
          "text": [
            "total time =  0.09580349922180176\n",
            "total time =  0.13677334785461426\n",
            "tensor([[ 2.0009],\n",
            "        [-2.8724]])\n",
            "tensor([[ 2.0017],\n",
            "        [-2.8735]])\n"
          ],
          "name": "stdout"
        }
      ]
    },
    {
      "cell_type": "code",
      "metadata": {
        "id": "NhwRoX5BhPF-",
        "colab_type": "code",
        "colab": {}
      },
      "source": [
        "fig, (ax1) = plt.subplots(1, 1)\n",
        "ax1.plot(X, f(w_new, Xt), marker = '_', color = 'blue')\n",
        "ax1.scatter(X, Y, marker='x', color='red')"
      ],
      "execution_count": 0,
      "outputs": []
    },
    {
      "cell_type": "code",
      "metadata": {
        "id": "z18BVMGFjAjo",
        "colab_type": "code",
        "outputId": "c13cfc7f-0b6f-45dd-d4c8-081acc52444e",
        "colab": {
          "base_uri": "https://localhost:8080/",
          "height": 461
        }
      },
      "source": [
        "fig, (ax1) = plt.subplots(1, 1)\n",
        "ax1.plot(X, loss(w_new, Xt), marker = '_', color = 'blue')\n",
        "ax1.plot(X, loss(w_new_s), marker='x', color='red')"
      ],
      "execution_count": 0,
      "outputs": [
        {
          "output_type": "error",
          "ename": "TypeError",
          "evalue": "ignored",
          "traceback": [
            "\u001b[0;31m---------------------------------------------------------------------------\u001b[0m",
            "\u001b[0;31mTypeError\u001b[0m                                 Traceback (most recent call last)",
            "\u001b[0;32m<ipython-input-52-2559b608f154>\u001b[0m in \u001b[0;36m<module>\u001b[0;34m()\u001b[0m\n\u001b[1;32m      1\u001b[0m \u001b[0mfig\u001b[0m\u001b[0;34m,\u001b[0m \u001b[0;34m(\u001b[0m\u001b[0max1\u001b[0m\u001b[0;34m)\u001b[0m \u001b[0;34m=\u001b[0m \u001b[0mplt\u001b[0m\u001b[0;34m.\u001b[0m\u001b[0msubplots\u001b[0m\u001b[0;34m(\u001b[0m\u001b[0;36m1\u001b[0m\u001b[0;34m,\u001b[0m \u001b[0;36m1\u001b[0m\u001b[0;34m)\u001b[0m\u001b[0;34m\u001b[0m\u001b[0;34m\u001b[0m\u001b[0m\n\u001b[0;32m----> 2\u001b[0;31m \u001b[0max1\u001b[0m\u001b[0;34m.\u001b[0m\u001b[0mplot\u001b[0m\u001b[0;34m(\u001b[0m\u001b[0mX\u001b[0m\u001b[0;34m,\u001b[0m \u001b[0mloss\u001b[0m\u001b[0;34m(\u001b[0m\u001b[0mw_new\u001b[0m\u001b[0;34m,\u001b[0m \u001b[0mXt\u001b[0m\u001b[0;34m)\u001b[0m\u001b[0;34m,\u001b[0m \u001b[0mmarker\u001b[0m \u001b[0;34m=\u001b[0m \u001b[0;34m'_'\u001b[0m\u001b[0;34m,\u001b[0m \u001b[0mcolor\u001b[0m \u001b[0;34m=\u001b[0m \u001b[0;34m'blue'\u001b[0m\u001b[0;34m)\u001b[0m\u001b[0;34m\u001b[0m\u001b[0;34m\u001b[0m\u001b[0m\n\u001b[0m\u001b[1;32m      3\u001b[0m \u001b[0max1\u001b[0m\u001b[0;34m.\u001b[0m\u001b[0mplot\u001b[0m\u001b[0;34m(\u001b[0m\u001b[0mX\u001b[0m\u001b[0;34m,\u001b[0m \u001b[0mloss\u001b[0m\u001b[0;34m(\u001b[0m\u001b[0mw_new_s\u001b[0m\u001b[0;34m)\u001b[0m\u001b[0;34m,\u001b[0m \u001b[0mmarker\u001b[0m\u001b[0;34m=\u001b[0m\u001b[0;34m'x'\u001b[0m\u001b[0;34m,\u001b[0m \u001b[0mcolor\u001b[0m\u001b[0;34m=\u001b[0m\u001b[0;34m'red'\u001b[0m\u001b[0;34m)\u001b[0m\u001b[0;34m\u001b[0m\u001b[0;34m\u001b[0m\u001b[0m\n",
            "\u001b[0;31mTypeError\u001b[0m: loss() missing 1 required positional argument: 'y'"
          ]
        },
        {
          "output_type": "display_data",
          "data": {
            "image/png": "[encoded data removed]",
            "text/plain": [
              "<Figure size 432x288 with 1 Axes>"
            ]
          },
          "metadata": {
            "tags": []
          }
        }
      ]
    },
    {
      "cell_type": "code",
      "metadata": {
        "id": "yQzOu9NGt9Hz",
        "colab_type": "code",
        "outputId": "b8747dfe-7518-4e5e-84e2-2af046c2651c",
        "colab": {
          "base_uri": "https://localhost:8080/",
          "height": 35
        }
      },
      "source": [
        "print(abs(-5))"
      ],
      "execution_count": 0,
      "outputs": [
        {
          "output_type": "stream",
          "text": [
            "5\n"
          ],
          "name": "stdout"
        }
      ]
    }
  ]
}